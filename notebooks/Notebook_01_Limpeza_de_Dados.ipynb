{
  "cells": [
    {
      "cell_type": "markdown",
      "metadata": {
        "colab_type": "text",
        "id": "view-in-github"
      },
      "source": [
        "<a href=\"https://colab.research.google.com/github/mavenceslau/Challenge-Data-Science-Alura-Cash/blob/master/notebooks/Notebook_01_Limpeza_de_Dados.ipynb\" target=\"_parent\"><img src=\"https://colab.research.google.com/assets/colab-badge.svg\" alt=\"Open In Colab\"/></a>"
      ]
    },
    {
      "cell_type": "markdown",
      "metadata": {
        "id": "vOBEag93TBww"
      },
      "source": [
        "# Semana 02 - Aprendendo com os dados: criando um modelo de previsão de inadimplência - Limpeza dos dados"
      ]
    },
    {
      "cell_type": "markdown",
      "metadata": {
        "id": "onjFNUpzTBw1"
      },
      "source": [
        "Após os tratamentos adequados no banco de dados, foi gerado um arquivo .csv, com ele continuaremos nossas análises mais minuciosas com auxílio da linguagem de programação Python."
      ]
    },
    {
      "cell_type": "markdown",
      "metadata": {},
      "source": [
        "Importando bibliotecas"
      ]
    },
    {
      "cell_type": "code",
      "execution_count": 1,
      "metadata": {},
      "outputs": [],
      "source": [
        "import sys\n",
        "sys.path.append('../')\n",
        "\n",
        "import pandas as pd\n",
        "import seaborn as sns\n",
        "import matplotlib.pyplot as plt\n",
        "from utils import config_exibicao, config_graficos, box, remove_outlier"
      ]
    },
    {
      "cell_type": "markdown",
      "metadata": {},
      "source": [
        "Com a função **config_exibicao** iremos configurar a exibição de dataframes pandas, de modo que os mesmos possam exibir o maior número de informações nas células sem cortar conteudo.\n",
        "\n",
        "E com a função **config_graficos** vamos configurar a exibição dos gráficos.\n",
        "\n",
        "Mais informações sobre essas funções podem ser vistas no arquivo [utils.py](https://github.com/mavenceslau/Challenge-Data-Science-Alura-Cash/blob/master/notebooks/utils.py)"
      ]
    },
    {
      "cell_type": "code",
      "execution_count": 2,
      "metadata": {},
      "outputs": [],
      "source": [
        "config_exibicao()\n",
        "config_graficos()"
      ]
    },
    {
      "cell_type": "markdown",
      "metadata": {},
      "source": [
        "Importando a base de dados e exibindo os primeiros registros"
      ]
    },
    {
      "cell_type": "code",
      "execution_count": 3,
      "metadata": {},
      "outputs": [
        {
          "data": {
            "text/html": [
              "<div>\n",
              "<style scoped>\n",
              "    .dataframe tbody tr th:only-of-type {\n",
              "        vertical-align: middle;\n",
              "    }\n",
              "\n",
              "    .dataframe tbody tr th {\n",
              "        vertical-align: top;\n",
              "    }\n",
              "\n",
              "    .dataframe thead th {\n",
              "        text-align: right;\n",
              "    }\n",
              "</style>\n",
              "<table border=\"1\" class=\"dataframe\">\n",
              "  <thead>\n",
              "    <tr style=\"text-align: right;\">\n",
              "      <th></th>\n",
              "      <th>pessoa_idade</th>\n",
              "      <th>pessoa_salario_anual</th>\n",
              "      <th>pessoa_status_propriedade</th>\n",
              "      <th>pessoa_tempo_trabalho</th>\n",
              "      <th>emprestimo_motivo</th>\n",
              "      <th>emprestimo_pontuacao</th>\n",
              "      <th>emprestimo_valor_total</th>\n",
              "      <th>emprestimo_taxa_juros</th>\n",
              "      <th>emprestimo_inadimplente</th>\n",
              "      <th>emprestimo_renda_percentual</th>\n",
              "      <th>historico_inadimplencia</th>\n",
              "      <th>historico_tempo_credito</th>\n",
              "    </tr>\n",
              "  </thead>\n",
              "  <tbody>\n",
              "    <tr>\n",
              "      <th>0</th>\n",
              "      <td>22.0</td>\n",
              "      <td>50000.0</td>\n",
              "      <td>Hipotecada</td>\n",
              "      <td>0.0</td>\n",
              "      <td>Pagamento de débitos</td>\n",
              "      <td>A</td>\n",
              "      <td>12800.0</td>\n",
              "      <td>5.79</td>\n",
              "      <td>0.0</td>\n",
              "      <td>0.26</td>\n",
              "      <td>N</td>\n",
              "      <td>2.0</td>\n",
              "    </tr>\n",
              "    <tr>\n",
              "      <th>1</th>\n",
              "      <td>26.0</td>\n",
              "      <td>84996.0</td>\n",
              "      <td>Alugada</td>\n",
              "      <td>0.0</td>\n",
              "      <td>Médico</td>\n",
              "      <td>B</td>\n",
              "      <td>9000.0</td>\n",
              "      <td>11.26</td>\n",
              "      <td>0.0</td>\n",
              "      <td>0.11</td>\n",
              "      <td>N</td>\n",
              "      <td>2.0</td>\n",
              "    </tr>\n",
              "    <tr>\n",
              "      <th>2</th>\n",
              "      <td>24.0</td>\n",
              "      <td>55782.0</td>\n",
              "      <td>Alugada</td>\n",
              "      <td>3.0</td>\n",
              "      <td>Melhora do lar</td>\n",
              "      <td>A</td>\n",
              "      <td>17000.0</td>\n",
              "      <td>7.51</td>\n",
              "      <td>0.0</td>\n",
              "      <td>0.30</td>\n",
              "      <td>N</td>\n",
              "      <td>2.0</td>\n",
              "    </tr>\n",
              "    <tr>\n",
              "      <th>3</th>\n",
              "      <td>25.0</td>\n",
              "      <td>125000.0</td>\n",
              "      <td>Própria</td>\n",
              "      <td>9.0</td>\n",
              "      <td>Pessoal</td>\n",
              "      <td>B</td>\n",
              "      <td>25000.0</td>\n",
              "      <td>10.59</td>\n",
              "      <td>0.0</td>\n",
              "      <td>0.20</td>\n",
              "      <td>N</td>\n",
              "      <td>2.0</td>\n",
              "    </tr>\n",
              "    <tr>\n",
              "      <th>4</th>\n",
              "      <td>23.0</td>\n",
              "      <td>44340.0</td>\n",
              "      <td>Própria</td>\n",
              "      <td>0.0</td>\n",
              "      <td>Empreendimento</td>\n",
              "      <td>C</td>\n",
              "      <td>3000.0</td>\n",
              "      <td>12.98</td>\n",
              "      <td>0.0</td>\n",
              "      <td>0.07</td>\n",
              "      <td>S</td>\n",
              "      <td>3.0</td>\n",
              "    </tr>\n",
              "  </tbody>\n",
              "</table>\n",
              "</div>"
            ],
            "text/plain": [
              "   pessoa_idade  pessoa_salario_anual pessoa_status_propriedade  \\\n",
              "0          22.0               50000.0                Hipotecada   \n",
              "1          26.0               84996.0                   Alugada   \n",
              "2          24.0               55782.0                   Alugada   \n",
              "3          25.0              125000.0                   Própria   \n",
              "4          23.0               44340.0                   Própria   \n",
              "\n",
              "   pessoa_tempo_trabalho     emprestimo_motivo emprestimo_pontuacao  \\\n",
              "0                    0.0  Pagamento de débitos                    A   \n",
              "1                    0.0                Médico                    B   \n",
              "2                    3.0        Melhora do lar                    A   \n",
              "3                    9.0               Pessoal                    B   \n",
              "4                    0.0        Empreendimento                    C   \n",
              "\n",
              "   emprestimo_valor_total  emprestimo_taxa_juros  emprestimo_inadimplente  \\\n",
              "0                 12800.0                   5.79                      0.0   \n",
              "1                  9000.0                  11.26                      0.0   \n",
              "2                 17000.0                   7.51                      0.0   \n",
              "3                 25000.0                  10.59                      0.0   \n",
              "4                  3000.0                  12.98                      0.0   \n",
              "\n",
              "   emprestimo_renda_percentual historico_inadimplencia  \\\n",
              "0                         0.26                       N   \n",
              "1                         0.11                       N   \n",
              "2                         0.30                       N   \n",
              "3                         0.20                       N   \n",
              "4                         0.07                       S   \n",
              "\n",
              "   historico_tempo_credito  \n",
              "0                      2.0  \n",
              "1                      2.0  \n",
              "2                      2.0  \n",
              "3                      2.0  \n",
              "4                      3.0  "
            ]
          },
          "execution_count": 3,
          "metadata": {},
          "output_type": "execute_result"
        }
      ],
      "source": [
        "url = 'https://raw.githubusercontent.com/mavenceslau/Challenge-Data-Science-Alura-Cash/master/data/interim/alura_cash.csv'\n",
        "dados = pd.read_csv(url)\n",
        "dados.head()"
      ]
    },
    {
      "cell_type": "code",
      "execution_count": 4,
      "metadata": {},
      "outputs": [
        {
          "name": "stdout",
          "output_type": "stream",
          "text": [
            "O dataset possui 34501 linhas e 12 colunas\n"
          ]
        }
      ],
      "source": [
        "print(f'O dataset possui {dados.shape[0]} linhas e {dados.shape[1]} colunas')"
      ]
    },
    {
      "cell_type": "markdown",
      "metadata": {},
      "source": [
        "## Analisando os dados"
      ]
    },
    {
      "cell_type": "code",
      "execution_count": 5,
      "metadata": {},
      "outputs": [
        {
          "name": "stdout",
          "output_type": "stream",
          "text": [
            "<class 'pandas.core.frame.DataFrame'>\n",
            "RangeIndex: 34501 entries, 0 to 34500\n",
            "Data columns (total 12 columns):\n",
            " #   Column                       Non-Null Count  Dtype  \n",
            "---  ------                       --------------  -----  \n",
            " 0   pessoa_idade                 34177 non-null  float64\n",
            " 1   pessoa_salario_anual         34162 non-null  float64\n",
            " 2   pessoa_status_propriedade    34170 non-null  object \n",
            " 3   pessoa_tempo_trabalho        33247 non-null  float64\n",
            " 4   emprestimo_motivo            34186 non-null  object \n",
            " 5   emprestimo_pontuacao         34188 non-null  object \n",
            " 6   emprestimo_valor_total       34170 non-null  float64\n",
            " 7   emprestimo_taxa_juros        30871 non-null  float64\n",
            " 8   emprestimo_inadimplente      34158 non-null  float64\n",
            " 9   emprestimo_renda_percentual  34182 non-null  float64\n",
            " 10  historico_inadimplencia      34131 non-null  object \n",
            " 11  historico_tempo_credito      34497 non-null  float64\n",
            "dtypes: float64(8), object(4)\n",
            "memory usage: 3.2+ MB\n"
          ]
        }
      ],
      "source": [
        "dados.info()"
      ]
    },
    {
      "cell_type": "markdown",
      "metadata": {},
      "source": [
        "As colunas **pessoa_idade**, **pessoa_tempo_trabalho** e **emprestimo_inadimplente** por algum motivo durante a exportação dos dados não está como tipo inteiro, logo irei fazer a conversão dos tipos, mas antes devemos verificar se há dados nulos no dataset"
      ]
    },
    {
      "cell_type": "code",
      "execution_count": 6,
      "metadata": {},
      "outputs": [
        {
          "data": {
            "text/html": [
              "<style type=\"text/css\">\n",
              "#T_3be16_row0_col0, #T_3be16_row6_col0 {\n",
              "  background-color: #29417a;\n",
              "  color: #f1f1f1;\n",
              "}\n",
              "#T_3be16_row0_col1, #T_3be16_row0_col2, #T_3be16_row0_col4, #T_3be16_row0_col5, #T_3be16_row0_col6, #T_3be16_row0_col7, #T_3be16_row2_col1, #T_3be16_row2_col2, #T_3be16_row2_col3, #T_3be16_row2_col4, #T_3be16_row2_col5, #T_3be16_row2_col6, #T_3be16_row2_col7, #T_3be16_row4_col0, #T_3be16_row4_col1, #T_3be16_row4_col2, #T_3be16_row4_col3, #T_3be16_row4_col4, #T_3be16_row4_col5, #T_3be16_row4_col6, #T_3be16_row4_col7, #T_3be16_row5_col1, #T_3be16_row5_col2, #T_3be16_row5_col3, #T_3be16_row5_col4, #T_3be16_row5_col5, #T_3be16_row5_col6, #T_3be16_row5_col7, #T_3be16_row6_col1, #T_3be16_row6_col2, #T_3be16_row6_col3, #T_3be16_row6_col4, #T_3be16_row6_col5, #T_3be16_row6_col6, #T_3be16_row6_col7, #T_3be16_row7_col1, #T_3be16_row7_col2, #T_3be16_row7_col3, #T_3be16_row7_col4, #T_3be16_row7_col5, #T_3be16_row7_col6, #T_3be16_row7_col7 {\n",
              "  background-color: #a5cd90;\n",
              "  color: #000000;\n",
              "}\n",
              "#T_3be16_row0_col3, #T_3be16_row3_col7 {\n",
              "  background-color: #a4cc90;\n",
              "  color: #000000;\n",
              "}\n",
              "#T_3be16_row1_col0, #T_3be16_row3_col0, #T_3be16_row5_col0 {\n",
              "  background-color: #29427a;\n",
              "  color: #f1f1f1;\n",
              "}\n",
              "#T_3be16_row1_col1, #T_3be16_row1_col2, #T_3be16_row1_col3, #T_3be16_row1_col4, #T_3be16_row1_col5, #T_3be16_row1_col6, #T_3be16_row1_col7, #T_3be16_row7_col0 {\n",
              "  background-color: #2c3172;\n",
              "  color: #f1f1f1;\n",
              "}\n",
              "#T_3be16_row2_col0 {\n",
              "  background-color: #1e6d8a;\n",
              "  color: #f1f1f1;\n",
              "}\n",
              "#T_3be16_row3_col1, #T_3be16_row3_col5 {\n",
              "  background-color: #7cb991;\n",
              "  color: #000000;\n",
              "}\n",
              "#T_3be16_row3_col2 {\n",
              "  background-color: #88bf91;\n",
              "  color: #000000;\n",
              "}\n",
              "#T_3be16_row3_col3 {\n",
              "  background-color: #81bc91;\n",
              "  color: #000000;\n",
              "}\n",
              "#T_3be16_row3_col4 {\n",
              "  background-color: #80bb91;\n",
              "  color: #000000;\n",
              "}\n",
              "#T_3be16_row3_col6 {\n",
              "  background-color: #79b891;\n",
              "  color: #f1f1f1;\n",
              "}\n",
              "</style>\n",
              "<table id=\"T_3be16\">\n",
              "  <thead>\n",
              "    <tr>\n",
              "      <th class=\"blank level0\" >&nbsp;</th>\n",
              "      <th id=\"T_3be16_level0_col0\" class=\"col_heading level0 col0\" >count</th>\n",
              "      <th id=\"T_3be16_level0_col1\" class=\"col_heading level0 col1\" >mean</th>\n",
              "      <th id=\"T_3be16_level0_col2\" class=\"col_heading level0 col2\" >std</th>\n",
              "      <th id=\"T_3be16_level0_col3\" class=\"col_heading level0 col3\" >min</th>\n",
              "      <th id=\"T_3be16_level0_col4\" class=\"col_heading level0 col4\" >25%</th>\n",
              "      <th id=\"T_3be16_level0_col5\" class=\"col_heading level0 col5\" >50%</th>\n",
              "      <th id=\"T_3be16_level0_col6\" class=\"col_heading level0 col6\" >75%</th>\n",
              "      <th id=\"T_3be16_level0_col7\" class=\"col_heading level0 col7\" >max</th>\n",
              "    </tr>\n",
              "  </thead>\n",
              "  <tbody>\n",
              "    <tr>\n",
              "      <th id=\"T_3be16_level0_row0\" class=\"row_heading level0 row0\" >pessoa_idade</th>\n",
              "      <td id=\"T_3be16_row0_col0\" class=\"data row0 col0\" >34177.00</td>\n",
              "      <td id=\"T_3be16_row0_col1\" class=\"data row0 col1\" >27.73</td>\n",
              "      <td id=\"T_3be16_row0_col2\" class=\"data row0 col2\" >6.35</td>\n",
              "      <td id=\"T_3be16_row0_col3\" class=\"data row0 col3\" >20.00</td>\n",
              "      <td id=\"T_3be16_row0_col4\" class=\"data row0 col4\" >23.00</td>\n",
              "      <td id=\"T_3be16_row0_col5\" class=\"data row0 col5\" >26.00</td>\n",
              "      <td id=\"T_3be16_row0_col6\" class=\"data row0 col6\" >30.00</td>\n",
              "      <td id=\"T_3be16_row0_col7\" class=\"data row0 col7\" >144.00</td>\n",
              "    </tr>\n",
              "    <tr>\n",
              "      <th id=\"T_3be16_level0_row1\" class=\"row_heading level0 row1\" >pessoa_salario_anual</th>\n",
              "      <td id=\"T_3be16_row1_col0\" class=\"data row1 col0\" >34162.00</td>\n",
              "      <td id=\"T_3be16_row1_col1\" class=\"data row1 col1\" >66028.69</td>\n",
              "      <td id=\"T_3be16_row1_col2\" class=\"data row1 col2\" >61405.05</td>\n",
              "      <td id=\"T_3be16_row1_col3\" class=\"data row1 col3\" >4000.00</td>\n",
              "      <td id=\"T_3be16_row1_col4\" class=\"data row1 col4\" >38493.00</td>\n",
              "      <td id=\"T_3be16_row1_col5\" class=\"data row1 col5\" >55000.00</td>\n",
              "      <td id=\"T_3be16_row1_col6\" class=\"data row1 col6\" >79200.00</td>\n",
              "      <td id=\"T_3be16_row1_col7\" class=\"data row1 col7\" >6000000.00</td>\n",
              "    </tr>\n",
              "    <tr>\n",
              "      <th id=\"T_3be16_level0_row2\" class=\"row_heading level0 row2\" >pessoa_tempo_trabalho</th>\n",
              "      <td id=\"T_3be16_row2_col0\" class=\"data row2 col0\" >33247.00</td>\n",
              "      <td id=\"T_3be16_row2_col1\" class=\"data row2 col1\" >4.79</td>\n",
              "      <td id=\"T_3be16_row2_col2\" class=\"data row2 col2\" >4.14</td>\n",
              "      <td id=\"T_3be16_row2_col3\" class=\"data row2 col3\" >0.00</td>\n",
              "      <td id=\"T_3be16_row2_col4\" class=\"data row2 col4\" >2.00</td>\n",
              "      <td id=\"T_3be16_row2_col5\" class=\"data row2 col5\" >4.00</td>\n",
              "      <td id=\"T_3be16_row2_col6\" class=\"data row2 col6\" >7.00</td>\n",
              "      <td id=\"T_3be16_row2_col7\" class=\"data row2 col7\" >123.00</td>\n",
              "    </tr>\n",
              "    <tr>\n",
              "      <th id=\"T_3be16_level0_row3\" class=\"row_heading level0 row3\" >emprestimo_valor_total</th>\n",
              "      <td id=\"T_3be16_row3_col0\" class=\"data row3 col0\" >34170.00</td>\n",
              "      <td id=\"T_3be16_row3_col1\" class=\"data row3 col1\" >9590.58</td>\n",
              "      <td id=\"T_3be16_row3_col2\" class=\"data row3 col2\" >6320.43</td>\n",
              "      <td id=\"T_3be16_row3_col3\" class=\"data row3 col3\" >500.00</td>\n",
              "      <td id=\"T_3be16_row3_col4\" class=\"data row3 col4\" >5000.00</td>\n",
              "      <td id=\"T_3be16_row3_col5\" class=\"data row3 col5\" >8000.00</td>\n",
              "      <td id=\"T_3be16_row3_col6\" class=\"data row3 col6\" >12200.00</td>\n",
              "      <td id=\"T_3be16_row3_col7\" class=\"data row3 col7\" >35000.00</td>\n",
              "    </tr>\n",
              "    <tr>\n",
              "      <th id=\"T_3be16_level0_row4\" class=\"row_heading level0 row4\" >emprestimo_taxa_juros</th>\n",
              "      <td id=\"T_3be16_row4_col0\" class=\"data row4 col0\" >30871.00</td>\n",
              "      <td id=\"T_3be16_row4_col1\" class=\"data row4 col1\" >11.01</td>\n",
              "      <td id=\"T_3be16_row4_col2\" class=\"data row4 col2\" >3.24</td>\n",
              "      <td id=\"T_3be16_row4_col3\" class=\"data row4 col3\" >5.42</td>\n",
              "      <td id=\"T_3be16_row4_col4\" class=\"data row4 col4\" >7.90</td>\n",
              "      <td id=\"T_3be16_row4_col5\" class=\"data row4 col5\" >10.99</td>\n",
              "      <td id=\"T_3be16_row4_col6\" class=\"data row4 col6\" >13.47</td>\n",
              "      <td id=\"T_3be16_row4_col7\" class=\"data row4 col7\" >23.22</td>\n",
              "    </tr>\n",
              "    <tr>\n",
              "      <th id=\"T_3be16_level0_row5\" class=\"row_heading level0 row5\" >emprestimo_inadimplente</th>\n",
              "      <td id=\"T_3be16_row5_col0\" class=\"data row5 col0\" >34158.00</td>\n",
              "      <td id=\"T_3be16_row5_col1\" class=\"data row5 col1\" >0.22</td>\n",
              "      <td id=\"T_3be16_row5_col2\" class=\"data row5 col2\" >0.41</td>\n",
              "      <td id=\"T_3be16_row5_col3\" class=\"data row5 col3\" >0.00</td>\n",
              "      <td id=\"T_3be16_row5_col4\" class=\"data row5 col4\" >0.00</td>\n",
              "      <td id=\"T_3be16_row5_col5\" class=\"data row5 col5\" >0.00</td>\n",
              "      <td id=\"T_3be16_row5_col6\" class=\"data row5 col6\" >0.00</td>\n",
              "      <td id=\"T_3be16_row5_col7\" class=\"data row5 col7\" >1.00</td>\n",
              "    </tr>\n",
              "    <tr>\n",
              "      <th id=\"T_3be16_level0_row6\" class=\"row_heading level0 row6\" >emprestimo_renda_percentual</th>\n",
              "      <td id=\"T_3be16_row6_col0\" class=\"data row6 col0\" >34182.00</td>\n",
              "      <td id=\"T_3be16_row6_col1\" class=\"data row6 col1\" >0.17</td>\n",
              "      <td id=\"T_3be16_row6_col2\" class=\"data row6 col2\" >0.11</td>\n",
              "      <td id=\"T_3be16_row6_col3\" class=\"data row6 col3\" >0.00</td>\n",
              "      <td id=\"T_3be16_row6_col4\" class=\"data row6 col4\" >0.09</td>\n",
              "      <td id=\"T_3be16_row6_col5\" class=\"data row6 col5\" >0.15</td>\n",
              "      <td id=\"T_3be16_row6_col6\" class=\"data row6 col6\" >0.23</td>\n",
              "      <td id=\"T_3be16_row6_col7\" class=\"data row6 col7\" >0.83</td>\n",
              "    </tr>\n",
              "    <tr>\n",
              "      <th id=\"T_3be16_level0_row7\" class=\"row_heading level0 row7\" >historico_tempo_credito</th>\n",
              "      <td id=\"T_3be16_row7_col0\" class=\"data row7 col0\" >34497.00</td>\n",
              "      <td id=\"T_3be16_row7_col1\" class=\"data row7 col1\" >5.81</td>\n",
              "      <td id=\"T_3be16_row7_col2\" class=\"data row7 col2\" >4.06</td>\n",
              "      <td id=\"T_3be16_row7_col3\" class=\"data row7 col3\" >2.00</td>\n",
              "      <td id=\"T_3be16_row7_col4\" class=\"data row7 col4\" >3.00</td>\n",
              "      <td id=\"T_3be16_row7_col5\" class=\"data row7 col5\" >4.00</td>\n",
              "      <td id=\"T_3be16_row7_col6\" class=\"data row7 col6\" >8.00</td>\n",
              "      <td id=\"T_3be16_row7_col7\" class=\"data row7 col7\" >30.00</td>\n",
              "    </tr>\n",
              "  </tbody>\n",
              "</table>\n"
            ],
            "text/plain": [
              "<pandas.io.formats.style.Styler at 0x2a3bad06430>"
            ]
          },
          "execution_count": 6,
          "metadata": {},
          "output_type": "execute_result"
        }
      ],
      "source": [
        "descricao = dados.describe().T\n",
        "descricao.style.background_gradient(cmap = 'crest').format(precision = 2)"
      ]
    },
    {
      "cell_type": "markdown",
      "metadata": {},
      "source": [
        "### Verifcando a existência de dados nulos"
      ]
    },
    {
      "cell_type": "code",
      "execution_count": 7,
      "metadata": {},
      "outputs": [
        {
          "data": {
            "text/plain": [
              "pessoa_idade                    324\n",
              "pessoa_salario_anual            339\n",
              "pessoa_status_propriedade       331\n",
              "pessoa_tempo_trabalho          1254\n",
              "emprestimo_motivo               315\n",
              "emprestimo_pontuacao            313\n",
              "emprestimo_valor_total          331\n",
              "emprestimo_taxa_juros          3630\n",
              "emprestimo_inadimplente         343\n",
              "emprestimo_renda_percentual     319\n",
              "historico_inadimplencia         370\n",
              "historico_tempo_credito           4\n",
              "dtype: int64"
            ]
          },
          "execution_count": 7,
          "metadata": {},
          "output_type": "execute_result"
        }
      ],
      "source": [
        "dados.isnull().sum()"
      ]
    },
    {
      "cell_type": "markdown",
      "metadata": {},
      "source": [
        "Podemos ver que existem muitos dados nulos no nosso dataset. Existem algumas maneiras de resolver essa questão. \n",
        "\n",
        "Uma estratégia seria remover todos os dados nulos, que ao meu ver não é recomendado, pois haveria muita perda de dados. \n",
        "\n",
        "Outra abordagem seria no lugar dos dados nulos, preencher com a informação da média da coluna correspondente. Irei usar esse método.\n",
        "\n",
        "Para as colunas numéricas usarei as médias e para as colunas categóricas usarei o dado mais frequente."
      ]
    },
    {
      "cell_type": "code",
      "execution_count": 8,
      "metadata": {},
      "outputs": [],
      "source": [
        "# Substituindo os dados faltantes das colunas numéricas pelas médias de cada coluna\n",
        "\n",
        "numericas = ['pessoa_idade', 'pessoa_salario_anual', 'pessoa_tempo_trabalho', 'emprestimo_valor_total',\n",
        "             'emprestimo_taxa_juros', 'emprestimo_renda_percentual', 'historico_tempo_credito']\n",
        "\n",
        "for numero in numericas:\n",
        "       dados[numero].fillna(dados[numero].mean(), inplace = True)"
      ]
    },
    {
      "cell_type": "markdown",
      "metadata": {},
      "source": [
        "A coluna **emprestimo_inadimplente** é nossa coluna alvo(target) para o modelo de machine learning, por isso os dados nulos da mesma serão removidos"
      ]
    },
    {
      "cell_type": "code",
      "execution_count": 9,
      "metadata": {},
      "outputs": [],
      "source": [
        "dados.dropna(subset = 'emprestimo_inadimplente', inplace = True)"
      ]
    },
    {
      "cell_type": "markdown",
      "metadata": {},
      "source": [
        "Exibindo a frequencia de registros das variáveis categóricas"
      ]
    },
    {
      "cell_type": "code",
      "execution_count": 10,
      "metadata": {},
      "outputs": [
        {
          "name": "stdout",
          "output_type": "stream",
          "text": [
            "--------------------------------------------------\n",
            "Alugada       17080\n",
            "Hipotecada    13983\n",
            "Própria        2689\n",
            "Outros          109\n",
            "Name: pessoa_status_propriedade, dtype: int64\n",
            "--------------------------------------------------\n",
            "--------------------------------------------------\n",
            "Educativo               6702\n",
            "Médico                  6317\n",
            "Empreendimento          5932\n",
            "Pessoal                 5729\n",
            "Pagamento de débitos    5424\n",
            "Melhora do lar          3757\n",
            "Name: emprestimo_motivo, dtype: int64\n",
            "--------------------------------------------------\n",
            "--------------------------------------------------\n",
            "A    11224\n",
            "B    10849\n",
            "C     6710\n",
            "D     3767\n",
            "E     1001\n",
            "F      252\n",
            "G       64\n",
            "Name: emprestimo_pontuacao, dtype: int64\n",
            "--------------------------------------------------\n",
            "--------------------------------------------------\n",
            "N    27866\n",
            "S     5960\n",
            "Name: historico_inadimplencia, dtype: int64\n",
            "--------------------------------------------------\n"
          ]
        }
      ],
      "source": [
        "categorias = ['pessoa_status_propriedade', 'emprestimo_motivo', 'emprestimo_pontuacao', 'historico_inadimplencia']\n",
        "\n",
        "for cat in categorias:\n",
        "    print(25*'--')\n",
        "    print(dados[cat].value_counts())\n",
        "    print(25*'--')"
      ]
    },
    {
      "cell_type": "code",
      "execution_count": 11,
      "metadata": {},
      "outputs": [],
      "source": [
        "# Substituindo os dados faltantes das colunas categóricas pelos valores mais comuns de cada coluna, ou seja, a moda.\n",
        "\n",
        "categorias = ['pessoa_status_propriedade', 'emprestimo_motivo', 'emprestimo_pontuacao', 'historico_inadimplencia']\n",
        "\n",
        "for cat in categorias:\n",
        "    dados[cat].fillna(dados[cat].mode()[0], inplace = True)"
      ]
    },
    {
      "cell_type": "markdown",
      "metadata": {},
      "source": [
        "Verificando a existência de dados nulos após os procedimentos"
      ]
    },
    {
      "cell_type": "code",
      "execution_count": 12,
      "metadata": {},
      "outputs": [
        {
          "data": {
            "text/plain": [
              "pessoa_idade                   0\n",
              "pessoa_salario_anual           0\n",
              "pessoa_status_propriedade      0\n",
              "pessoa_tempo_trabalho          0\n",
              "emprestimo_motivo              0\n",
              "emprestimo_pontuacao           0\n",
              "emprestimo_valor_total         0\n",
              "emprestimo_taxa_juros          0\n",
              "emprestimo_inadimplente        0\n",
              "emprestimo_renda_percentual    0\n",
              "historico_inadimplencia        0\n",
              "historico_tempo_credito        0\n",
              "dtype: int64"
            ]
          },
          "execution_count": 12,
          "metadata": {},
          "output_type": "execute_result"
        }
      ],
      "source": [
        "dados.isnull().sum()"
      ]
    },
    {
      "cell_type": "markdown",
      "metadata": {},
      "source": [
        "### Verifcando a existência de dados duplicados"
      ]
    },
    {
      "cell_type": "code",
      "execution_count": 13,
      "metadata": {},
      "outputs": [
        {
          "name": "stdout",
          "output_type": "stream",
          "text": [
            "Existem 165 registros duplicados no dataset\n"
          ]
        }
      ],
      "source": [
        "dados.duplicated().value_counts()\n",
        "print(f'Existem {dados.duplicated().value_counts()[1]} registros duplicados no dataset')"
      ]
    },
    {
      "cell_type": "code",
      "execution_count": 14,
      "metadata": {},
      "outputs": [],
      "source": [
        "dados.drop_duplicates(inplace = True)"
      ]
    },
    {
      "cell_type": "code",
      "execution_count": 15,
      "metadata": {},
      "outputs": [
        {
          "data": {
            "text/plain": [
              "False    33993\n",
              "dtype: int64"
            ]
          },
          "execution_count": 15,
          "metadata": {},
          "output_type": "execute_result"
        }
      ],
      "source": [
        "dados.duplicated().value_counts()"
      ]
    },
    {
      "cell_type": "markdown",
      "metadata": {},
      "source": [
        "Agora que o dataset não possui dados nulos, podemos alterar o tipo de dados das colunas **pessoa_idade**, **pessoa_tempo_trabalho** e **emprestimo_inadimplente** para inteiro."
      ]
    },
    {
      "cell_type": "code",
      "execution_count": 16,
      "metadata": {},
      "outputs": [],
      "source": [
        "valores_int = ['pessoa_idade', 'pessoa_tempo_trabalho', 'emprestimo_inadimplente']\n",
        "\n",
        "for valor in valores_int:\n",
        "    dados[valor] = dados[valor].astype('int')"
      ]
    },
    {
      "cell_type": "code",
      "execution_count": 17,
      "metadata": {},
      "outputs": [
        {
          "name": "stdout",
          "output_type": "stream",
          "text": [
            "<class 'pandas.core.frame.DataFrame'>\n",
            "Int64Index: 33993 entries, 0 to 34500\n",
            "Data columns (total 12 columns):\n",
            " #   Column                       Non-Null Count  Dtype  \n",
            "---  ------                       --------------  -----  \n",
            " 0   pessoa_idade                 33993 non-null  int32  \n",
            " 1   pessoa_salario_anual         33993 non-null  float64\n",
            " 2   pessoa_status_propriedade    33993 non-null  object \n",
            " 3   pessoa_tempo_trabalho        33993 non-null  int32  \n",
            " 4   emprestimo_motivo            33993 non-null  object \n",
            " 5   emprestimo_pontuacao         33993 non-null  object \n",
            " 6   emprestimo_valor_total       33993 non-null  float64\n",
            " 7   emprestimo_taxa_juros        33993 non-null  float64\n",
            " 8   emprestimo_inadimplente      33993 non-null  int32  \n",
            " 9   emprestimo_renda_percentual  33993 non-null  float64\n",
            " 10  historico_inadimplencia      33993 non-null  object \n",
            " 11  historico_tempo_credito      33993 non-null  float64\n",
            "dtypes: float64(5), int32(3), object(4)\n",
            "memory usage: 3.0+ MB\n"
          ]
        }
      ],
      "source": [
        "dados.info()"
      ]
    },
    {
      "cell_type": "markdown",
      "metadata": {},
      "source": [
        "### Verifcando a existência de outliers"
      ]
    },
    {
      "cell_type": "markdown",
      "metadata": {},
      "source": [
        "Outliers são informações fora do padrão dos dados, discrepantes. Podem ocorrer por erros na captura dos dados, na digitação das informações ou apenas alguma exceção nos dados.\n",
        "\n",
        "Para melhor trabalharmos nossa análise os outliers devem ser removidos. Para isso irei utilizar a abordagem dos Intervalos Interquartis, que\n",
        "é a diferença entre o terceiro e primeiro quartis: **IIR = Q3−Q1**."
      ]
    },
    {
      "cell_type": "code",
      "execution_count": 18,
      "metadata": {},
      "outputs": [
        {
          "data": {
            "text/html": [
              "<style type=\"text/css\">\n",
              "#T_7758f_row0_col0, #T_7758f_row0_col1, #T_7758f_row0_col2, #T_7758f_row0_col4, #T_7758f_row0_col5, #T_7758f_row0_col6, #T_7758f_row0_col7, #T_7758f_row1_col0, #T_7758f_row2_col0, #T_7758f_row2_col1, #T_7758f_row2_col2, #T_7758f_row2_col3, #T_7758f_row2_col4, #T_7758f_row2_col5, #T_7758f_row2_col6, #T_7758f_row2_col7, #T_7758f_row3_col0, #T_7758f_row4_col0, #T_7758f_row4_col1, #T_7758f_row4_col2, #T_7758f_row4_col3, #T_7758f_row4_col4, #T_7758f_row4_col5, #T_7758f_row4_col6, #T_7758f_row4_col7, #T_7758f_row5_col0, #T_7758f_row5_col1, #T_7758f_row5_col2, #T_7758f_row5_col3, #T_7758f_row5_col4, #T_7758f_row5_col5, #T_7758f_row5_col6, #T_7758f_row5_col7, #T_7758f_row6_col0, #T_7758f_row6_col1, #T_7758f_row6_col2, #T_7758f_row6_col3, #T_7758f_row6_col4, #T_7758f_row6_col5, #T_7758f_row6_col6, #T_7758f_row6_col7, #T_7758f_row7_col0, #T_7758f_row7_col1, #T_7758f_row7_col2, #T_7758f_row7_col3, #T_7758f_row7_col4, #T_7758f_row7_col5, #T_7758f_row7_col6, #T_7758f_row7_col7 {\n",
              "  background-color: #a5cd90;\n",
              "  color: #000000;\n",
              "}\n",
              "#T_7758f_row0_col3, #T_7758f_row3_col7 {\n",
              "  background-color: #a4cc90;\n",
              "  color: #000000;\n",
              "}\n",
              "#T_7758f_row1_col1, #T_7758f_row1_col2, #T_7758f_row1_col3, #T_7758f_row1_col4, #T_7758f_row1_col5, #T_7758f_row1_col6, #T_7758f_row1_col7 {\n",
              "  background-color: #2c3172;\n",
              "  color: #f1f1f1;\n",
              "}\n",
              "#T_7758f_row3_col1, #T_7758f_row3_col5 {\n",
              "  background-color: #7cb991;\n",
              "  color: #000000;\n",
              "}\n",
              "#T_7758f_row3_col2 {\n",
              "  background-color: #88bf91;\n",
              "  color: #000000;\n",
              "}\n",
              "#T_7758f_row3_col3, #T_7758f_row3_col4 {\n",
              "  background-color: #81bc91;\n",
              "  color: #000000;\n",
              "}\n",
              "#T_7758f_row3_col6 {\n",
              "  background-color: #7bb991;\n",
              "  color: #000000;\n",
              "}\n",
              "</style>\n",
              "<table id=\"T_7758f\">\n",
              "  <thead>\n",
              "    <tr>\n",
              "      <th class=\"blank level0\" >&nbsp;</th>\n",
              "      <th id=\"T_7758f_level0_col0\" class=\"col_heading level0 col0\" >count</th>\n",
              "      <th id=\"T_7758f_level0_col1\" class=\"col_heading level0 col1\" >mean</th>\n",
              "      <th id=\"T_7758f_level0_col2\" class=\"col_heading level0 col2\" >std</th>\n",
              "      <th id=\"T_7758f_level0_col3\" class=\"col_heading level0 col3\" >min</th>\n",
              "      <th id=\"T_7758f_level0_col4\" class=\"col_heading level0 col4\" >25%</th>\n",
              "      <th id=\"T_7758f_level0_col5\" class=\"col_heading level0 col5\" >50%</th>\n",
              "      <th id=\"T_7758f_level0_col6\" class=\"col_heading level0 col6\" >75%</th>\n",
              "      <th id=\"T_7758f_level0_col7\" class=\"col_heading level0 col7\" >max</th>\n",
              "    </tr>\n",
              "  </thead>\n",
              "  <tbody>\n",
              "    <tr>\n",
              "      <th id=\"T_7758f_level0_row0\" class=\"row_heading level0 row0\" >pessoa_idade</th>\n",
              "      <td id=\"T_7758f_row0_col0\" class=\"data row0 col0\" >33993.00</td>\n",
              "      <td id=\"T_7758f_row0_col1\" class=\"data row0 col1\" >27.73</td>\n",
              "      <td id=\"T_7758f_row0_col2\" class=\"data row0 col2\" >6.31</td>\n",
              "      <td id=\"T_7758f_row0_col3\" class=\"data row0 col3\" >20.00</td>\n",
              "      <td id=\"T_7758f_row0_col4\" class=\"data row0 col4\" >23.00</td>\n",
              "      <td id=\"T_7758f_row0_col5\" class=\"data row0 col5\" >26.00</td>\n",
              "      <td id=\"T_7758f_row0_col6\" class=\"data row0 col6\" >30.00</td>\n",
              "      <td id=\"T_7758f_row0_col7\" class=\"data row0 col7\" >144.00</td>\n",
              "    </tr>\n",
              "    <tr>\n",
              "      <th id=\"T_7758f_level0_row1\" class=\"row_heading level0 row1\" >pessoa_salario_anual</th>\n",
              "      <td id=\"T_7758f_row1_col0\" class=\"data row1 col0\" >33993.00</td>\n",
              "      <td id=\"T_7758f_row1_col1\" class=\"data row1 col1\" >66045.91</td>\n",
              "      <td id=\"T_7758f_row1_col2\" class=\"data row1 col2\" >61182.56</td>\n",
              "      <td id=\"T_7758f_row1_col3\" class=\"data row1 col3\" >4000.00</td>\n",
              "      <td id=\"T_7758f_row1_col4\" class=\"data row1 col4\" >39000.00</td>\n",
              "      <td id=\"T_7758f_row1_col5\" class=\"data row1 col5\" >55236.00</td>\n",
              "      <td id=\"T_7758f_row1_col6\" class=\"data row1 col6\" >78996.00</td>\n",
              "      <td id=\"T_7758f_row1_col7\" class=\"data row1 col7\" >6000000.00</td>\n",
              "    </tr>\n",
              "    <tr>\n",
              "      <th id=\"T_7758f_level0_row2\" class=\"row_heading level0 row2\" >pessoa_tempo_trabalho</th>\n",
              "      <td id=\"T_7758f_row2_col0\" class=\"data row2 col0\" >33993.00</td>\n",
              "      <td id=\"T_7758f_row2_col1\" class=\"data row2 col1\" >4.76</td>\n",
              "      <td id=\"T_7758f_row2_col2\" class=\"data row2 col2\" >4.07</td>\n",
              "      <td id=\"T_7758f_row2_col3\" class=\"data row2 col3\" >0.00</td>\n",
              "      <td id=\"T_7758f_row2_col4\" class=\"data row2 col4\" >2.00</td>\n",
              "      <td id=\"T_7758f_row2_col5\" class=\"data row2 col5\" >4.00</td>\n",
              "      <td id=\"T_7758f_row2_col6\" class=\"data row2 col6\" >7.00</td>\n",
              "      <td id=\"T_7758f_row2_col7\" class=\"data row2 col7\" >123.00</td>\n",
              "    </tr>\n",
              "    <tr>\n",
              "      <th id=\"T_7758f_level0_row3\" class=\"row_heading level0 row3\" >emprestimo_valor_total</th>\n",
              "      <td id=\"T_7758f_row3_col0\" class=\"data row3 col0\" >33993.00</td>\n",
              "      <td id=\"T_7758f_row3_col1\" class=\"data row3 col1\" >9600.64</td>\n",
              "      <td id=\"T_7758f_row3_col2\" class=\"data row3 col2\" >6292.72</td>\n",
              "      <td id=\"T_7758f_row3_col3\" class=\"data row3 col3\" >500.00</td>\n",
              "      <td id=\"T_7758f_row3_col4\" class=\"data row3 col4\" >5000.00</td>\n",
              "      <td id=\"T_7758f_row3_col5\" class=\"data row3 col5\" >8000.00</td>\n",
              "      <td id=\"T_7758f_row3_col6\" class=\"data row3 col6\" >12000.00</td>\n",
              "      <td id=\"T_7758f_row3_col7\" class=\"data row3 col7\" >35000.00</td>\n",
              "    </tr>\n",
              "    <tr>\n",
              "      <th id=\"T_7758f_level0_row4\" class=\"row_heading level0 row4\" >emprestimo_taxa_juros</th>\n",
              "      <td id=\"T_7758f_row4_col0\" class=\"data row4 col0\" >33993.00</td>\n",
              "      <td id=\"T_7758f_row4_col1\" class=\"data row4 col1\" >11.02</td>\n",
              "      <td id=\"T_7758f_row4_col2\" class=\"data row4 col2\" >3.07</td>\n",
              "      <td id=\"T_7758f_row4_col3\" class=\"data row4 col3\" >5.42</td>\n",
              "      <td id=\"T_7758f_row4_col4\" class=\"data row4 col4\" >8.49</td>\n",
              "      <td id=\"T_7758f_row4_col5\" class=\"data row4 col5\" >11.01</td>\n",
              "      <td id=\"T_7758f_row4_col6\" class=\"data row4 col6\" >13.11</td>\n",
              "      <td id=\"T_7758f_row4_col7\" class=\"data row4 col7\" >23.22</td>\n",
              "    </tr>\n",
              "    <tr>\n",
              "      <th id=\"T_7758f_level0_row5\" class=\"row_heading level0 row5\" >emprestimo_inadimplente</th>\n",
              "      <td id=\"T_7758f_row5_col0\" class=\"data row5 col0\" >33993.00</td>\n",
              "      <td id=\"T_7758f_row5_col1\" class=\"data row5 col1\" >0.22</td>\n",
              "      <td id=\"T_7758f_row5_col2\" class=\"data row5 col2\" >0.41</td>\n",
              "      <td id=\"T_7758f_row5_col3\" class=\"data row5 col3\" >0.00</td>\n",
              "      <td id=\"T_7758f_row5_col4\" class=\"data row5 col4\" >0.00</td>\n",
              "      <td id=\"T_7758f_row5_col5\" class=\"data row5 col5\" >0.00</td>\n",
              "      <td id=\"T_7758f_row5_col6\" class=\"data row5 col6\" >0.00</td>\n",
              "      <td id=\"T_7758f_row5_col7\" class=\"data row5 col7\" >1.00</td>\n",
              "    </tr>\n",
              "    <tr>\n",
              "      <th id=\"T_7758f_level0_row6\" class=\"row_heading level0 row6\" >emprestimo_renda_percentual</th>\n",
              "      <td id=\"T_7758f_row6_col0\" class=\"data row6 col0\" >33993.00</td>\n",
              "      <td id=\"T_7758f_row6_col1\" class=\"data row6 col1\" >0.17</td>\n",
              "      <td id=\"T_7758f_row6_col2\" class=\"data row6 col2\" >0.11</td>\n",
              "      <td id=\"T_7758f_row6_col3\" class=\"data row6 col3\" >0.00</td>\n",
              "      <td id=\"T_7758f_row6_col4\" class=\"data row6 col4\" >0.09</td>\n",
              "      <td id=\"T_7758f_row6_col5\" class=\"data row6 col5\" >0.15</td>\n",
              "      <td id=\"T_7758f_row6_col6\" class=\"data row6 col6\" >0.23</td>\n",
              "      <td id=\"T_7758f_row6_col7\" class=\"data row6 col7\" >0.83</td>\n",
              "    </tr>\n",
              "    <tr>\n",
              "      <th id=\"T_7758f_level0_row7\" class=\"row_heading level0 row7\" >historico_tempo_credito</th>\n",
              "      <td id=\"T_7758f_row7_col0\" class=\"data row7 col0\" >33993.00</td>\n",
              "      <td id=\"T_7758f_row7_col1\" class=\"data row7 col1\" >5.81</td>\n",
              "      <td id=\"T_7758f_row7_col2\" class=\"data row7 col2\" >4.06</td>\n",
              "      <td id=\"T_7758f_row7_col3\" class=\"data row7 col3\" >2.00</td>\n",
              "      <td id=\"T_7758f_row7_col4\" class=\"data row7 col4\" >3.00</td>\n",
              "      <td id=\"T_7758f_row7_col5\" class=\"data row7 col5\" >4.00</td>\n",
              "      <td id=\"T_7758f_row7_col6\" class=\"data row7 col6\" >8.00</td>\n",
              "      <td id=\"T_7758f_row7_col7\" class=\"data row7 col7\" >30.00</td>\n",
              "    </tr>\n",
              "  </tbody>\n",
              "</table>\n"
            ],
            "text/plain": [
              "<pandas.io.formats.style.Styler at 0x2a3b9240250>"
            ]
          },
          "execution_count": 18,
          "metadata": {},
          "output_type": "execute_result"
        }
      ],
      "source": [
        "descricao = dados.describe().T\n",
        "descricao.style.background_gradient(cmap = 'crest').format(precision = 2)"
      ]
    },
    {
      "cell_type": "markdown",
      "metadata": {},
      "source": [
        "Com as descrições dos dados podemos notar alguns possiveis outliers, como por exemplo a variável **pessoa_idade**, onde temos o valor máximo de 144 anos.\n",
        "\n",
        "Usando um gráfico de Boxplot, visualmente podemor ver os possíveis dados descrepantes."
      ]
    },
    {
      "cell_type": "code",
      "execution_count": 19,
      "metadata": {},
      "outputs": [
        {
          "data": {
            "image/png": "[encoded data removed]",
            "text/plain": [
              "<Figure size 1440x1080 with 9 Axes>"
            ]
          },
          "metadata": {},
          "output_type": "display_data"
        }
      ],
      "source": [
        "outliers = ['pessoa_idade', 'pessoa_salario_anual', 'pessoa_tempo_trabalho', 'emprestimo_valor_total',\n",
        "            'emprestimo_taxa_juros', 'emprestimo_renda_percentual', 'historico_tempo_credito']\n",
        "ncols = len(outliers)\n",
        "fig, axes = plt.subplots(3, 3, figsize = (20, 15))\n",
        "custom_params = {\"axes.spines.right\": False,\"axes.spines.left\": False, \"axes.spines.top\": False}\n",
        "sns.set_theme(context=\"notebook\", style=\"white\", rc=custom_params)\n",
        "\n",
        "for outlier, ax in zip(outliers, axes.flatten()):  \n",
        "    sns.boxplot(data = dados, x = outlier, ax = ax)\n",
        "    \n",
        "plt.tight_layout()    "
      ]
    },
    {
      "cell_type": "markdown",
      "metadata": {},
      "source": [
        "Na variável **pessoa_idade** irei deixar apenas registros onde a idade seja menor que 100 anos."
      ]
    },
    {
      "cell_type": "code",
      "execution_count": 20,
      "metadata": {},
      "outputs": [
        {
          "data": {
            "text/plain": [
              "array([22, 26, 24, 25, 23, 29, 27, 32, 36, 30, 28, 33, 21, 31, 35, 34, 47,\n",
              "       51, 37, 38, 58, 52, 49, 41, 40, 46, 42, 43, 39, 44, 45, 48, 53, 65,\n",
              "       55, 57, 54, 50, 56, 69, 84, 61, 59, 20, 70, 67, 76, 62, 64, 94, 66,\n",
              "       60, 78, 73, 63, 80])"
            ]
          },
          "execution_count": 20,
          "metadata": {},
          "output_type": "execute_result"
        }
      ],
      "source": [
        "dados = dados[dados['pessoa_idade'] <= 100]\n",
        "dados.pessoa_idade.unique()"
      ]
    },
    {
      "cell_type": "markdown",
      "metadata": {},
      "source": [
        "Na variável **pessoa_tempo_trabalho** deixei somente os registros onde o tempo de trabalho é de 30 anos ou menos."
      ]
    },
    {
      "cell_type": "code",
      "execution_count": 21,
      "metadata": {},
      "outputs": [
        {
          "data": {
            "text/plain": [
              "array([ 0,  3,  9,  4,  8,  6,  1, 14, 13, 12,  2, 15, 11,  5,  7, 19, 10,\n",
              "       20, 23, 17, 22, 21, 27, 16, 18, 28, 26, 24, 25, 30, 29])"
            ]
          },
          "execution_count": 21,
          "metadata": {},
          "output_type": "execute_result"
        }
      ],
      "source": [
        "dados = dados[dados['pessoa_tempo_trabalho'] <= 30]\n",
        "dados.pessoa_tempo_trabalho.unique()"
      ]
    },
    {
      "cell_type": "markdown",
      "metadata": {},
      "source": [
        "Já na variável **pessoa_salario_anual** utilizei a abordagem do **Intervalo Inter Quartil (IIR)** para remover os dados descrepantes."
      ]
    },
    {
      "cell_type": "code",
      "execution_count": 22,
      "metadata": {},
      "outputs": [
        {
          "data": {
            "text/html": [
              "<style type=\"text/css\">\n",
              "#T_f5242_row0_col0, #T_f5242_row0_col1, #T_f5242_row0_col2, #T_f5242_row0_col4, #T_f5242_row0_col5, #T_f5242_row0_col6, #T_f5242_row0_col7, #T_f5242_row1_col0, #T_f5242_row2_col0, #T_f5242_row2_col1, #T_f5242_row2_col2, #T_f5242_row2_col3, #T_f5242_row2_col4, #T_f5242_row2_col5, #T_f5242_row2_col6, #T_f5242_row2_col7, #T_f5242_row3_col0, #T_f5242_row4_col0, #T_f5242_row4_col1, #T_f5242_row4_col2, #T_f5242_row4_col3, #T_f5242_row4_col4, #T_f5242_row4_col5, #T_f5242_row4_col6, #T_f5242_row4_col7, #T_f5242_row5_col0, #T_f5242_row5_col1, #T_f5242_row5_col2, #T_f5242_row5_col3, #T_f5242_row5_col4, #T_f5242_row5_col5, #T_f5242_row5_col6, #T_f5242_row5_col7, #T_f5242_row6_col0, #T_f5242_row6_col1, #T_f5242_row6_col2, #T_f5242_row6_col3, #T_f5242_row6_col4, #T_f5242_row6_col5, #T_f5242_row6_col6, #T_f5242_row6_col7, #T_f5242_row7_col0, #T_f5242_row7_col1, #T_f5242_row7_col2, #T_f5242_row7_col3, #T_f5242_row7_col4, #T_f5242_row7_col5, #T_f5242_row7_col6, #T_f5242_row7_col7 {\n",
              "  background-color: #a5cd90;\n",
              "  color: #000000;\n",
              "}\n",
              "#T_f5242_row0_col3 {\n",
              "  background-color: #a4cc90;\n",
              "  color: #000000;\n",
              "}\n",
              "#T_f5242_row1_col1, #T_f5242_row1_col2, #T_f5242_row1_col3, #T_f5242_row1_col4, #T_f5242_row1_col5, #T_f5242_row1_col6, #T_f5242_row1_col7 {\n",
              "  background-color: #2c3172;\n",
              "  color: #f1f1f1;\n",
              "}\n",
              "#T_f5242_row3_col1, #T_f5242_row3_col6 {\n",
              "  background-color: #78b891;\n",
              "  color: #f1f1f1;\n",
              "}\n",
              "#T_f5242_row3_col2 {\n",
              "  background-color: #67ae90;\n",
              "  color: #f1f1f1;\n",
              "}\n",
              "#T_f5242_row3_col3 {\n",
              "  background-color: #81bc91;\n",
              "  color: #000000;\n",
              "}\n",
              "#T_f5242_row3_col4 {\n",
              "  background-color: #80bb91;\n",
              "  color: #000000;\n",
              "}\n",
              "#T_f5242_row3_col5 {\n",
              "  background-color: #7cb991;\n",
              "  color: #000000;\n",
              "}\n",
              "#T_f5242_row3_col7 {\n",
              "  background-color: #61aa90;\n",
              "  color: #f1f1f1;\n",
              "}\n",
              "</style>\n",
              "<table id=\"T_f5242\">\n",
              "  <thead>\n",
              "    <tr>\n",
              "      <th class=\"blank level0\" >&nbsp;</th>\n",
              "      <th id=\"T_f5242_level0_col0\" class=\"col_heading level0 col0\" >count</th>\n",
              "      <th id=\"T_f5242_level0_col1\" class=\"col_heading level0 col1\" >mean</th>\n",
              "      <th id=\"T_f5242_level0_col2\" class=\"col_heading level0 col2\" >std</th>\n",
              "      <th id=\"T_f5242_level0_col3\" class=\"col_heading level0 col3\" >min</th>\n",
              "      <th id=\"T_f5242_level0_col4\" class=\"col_heading level0 col4\" >25%</th>\n",
              "      <th id=\"T_f5242_level0_col5\" class=\"col_heading level0 col5\" >50%</th>\n",
              "      <th id=\"T_f5242_level0_col6\" class=\"col_heading level0 col6\" >75%</th>\n",
              "      <th id=\"T_f5242_level0_col7\" class=\"col_heading level0 col7\" >max</th>\n",
              "    </tr>\n",
              "  </thead>\n",
              "  <tbody>\n",
              "    <tr>\n",
              "      <th id=\"T_f5242_level0_row0\" class=\"row_heading level0 row0\" >pessoa_idade</th>\n",
              "      <td id=\"T_f5242_row0_col0\" class=\"data row0 col0\" >32316.00</td>\n",
              "      <td id=\"T_f5242_row0_col1\" class=\"data row0 col1\" >27.58</td>\n",
              "      <td id=\"T_f5242_row0_col2\" class=\"data row0 col2\" >6.10</td>\n",
              "      <td id=\"T_f5242_row0_col3\" class=\"data row0 col3\" >20.00</td>\n",
              "      <td id=\"T_f5242_row0_col4\" class=\"data row0 col4\" >23.00</td>\n",
              "      <td id=\"T_f5242_row0_col5\" class=\"data row0 col5\" >26.00</td>\n",
              "      <td id=\"T_f5242_row0_col6\" class=\"data row0 col6\" >30.00</td>\n",
              "      <td id=\"T_f5242_row0_col7\" class=\"data row0 col7\" >94.00</td>\n",
              "    </tr>\n",
              "    <tr>\n",
              "      <th id=\"T_f5242_level0_row1\" class=\"row_heading level0 row1\" >pessoa_salario_anual</th>\n",
              "      <td id=\"T_f5242_row1_col0\" class=\"data row1 col0\" >32316.00</td>\n",
              "      <td id=\"T_f5242_row1_col1\" class=\"data row1 col1\" >58422.27</td>\n",
              "      <td id=\"T_f5242_row1_col2\" class=\"data row1 col2\" >26946.56</td>\n",
              "      <td id=\"T_f5242_row1_col3\" class=\"data row1 col3\" >4000.00</td>\n",
              "      <td id=\"T_f5242_row1_col4\" class=\"data row1 col4\" >38000.00</td>\n",
              "      <td id=\"T_f5242_row1_col5\" class=\"data row1 col5\" >54000.00</td>\n",
              "      <td id=\"T_f5242_row1_col6\" class=\"data row1 col6\" >75000.00</td>\n",
              "      <td id=\"T_f5242_row1_col7\" class=\"data row1 col7\" >138600.00</td>\n",
              "    </tr>\n",
              "    <tr>\n",
              "      <th id=\"T_f5242_level0_row2\" class=\"row_heading level0 row2\" >pessoa_tempo_trabalho</th>\n",
              "      <td id=\"T_f5242_row2_col0\" class=\"data row2 col0\" >32316.00</td>\n",
              "      <td id=\"T_f5242_row2_col1\" class=\"data row2 col1\" >4.67</td>\n",
              "      <td id=\"T_f5242_row2_col2\" class=\"data row2 col2\" >3.87</td>\n",
              "      <td id=\"T_f5242_row2_col3\" class=\"data row2 col3\" >0.00</td>\n",
              "      <td id=\"T_f5242_row2_col4\" class=\"data row2 col4\" >2.00</td>\n",
              "      <td id=\"T_f5242_row2_col5\" class=\"data row2 col5\" >4.00</td>\n",
              "      <td id=\"T_f5242_row2_col6\" class=\"data row2 col6\" >7.00</td>\n",
              "      <td id=\"T_f5242_row2_col7\" class=\"data row2 col7\" >29.00</td>\n",
              "    </tr>\n",
              "    <tr>\n",
              "      <th id=\"T_f5242_level0_row3\" class=\"row_heading level0 row3\" >emprestimo_valor_total</th>\n",
              "      <td id=\"T_f5242_row3_col0\" class=\"data row3 col0\" >32316.00</td>\n",
              "      <td id=\"T_f5242_row3_col1\" class=\"data row3 col1\" >9293.04</td>\n",
              "      <td id=\"T_f5242_row3_col2\" class=\"data row3 col2\" >6004.48</td>\n",
              "      <td id=\"T_f5242_row3_col3\" class=\"data row3 col3\" >500.00</td>\n",
              "      <td id=\"T_f5242_row3_col4\" class=\"data row3 col4\" >5000.00</td>\n",
              "      <td id=\"T_f5242_row3_col5\" class=\"data row3 col5\" >8000.00</td>\n",
              "      <td id=\"T_f5242_row3_col6\" class=\"data row3 col6\" >12000.00</td>\n",
              "      <td id=\"T_f5242_row3_col7\" class=\"data row3 col7\" >35000.00</td>\n",
              "    </tr>\n",
              "    <tr>\n",
              "      <th id=\"T_f5242_level0_row4\" class=\"row_heading level0 row4\" >emprestimo_taxa_juros</th>\n",
              "      <td id=\"T_f5242_row4_col0\" class=\"data row4 col0\" >32316.00</td>\n",
              "      <td id=\"T_f5242_row4_col1\" class=\"data row4 col1\" >11.01</td>\n",
              "      <td id=\"T_f5242_row4_col2\" class=\"data row4 col2\" >3.07</td>\n",
              "      <td id=\"T_f5242_row4_col3\" class=\"data row4 col3\" >5.42</td>\n",
              "      <td id=\"T_f5242_row4_col4\" class=\"data row4 col4\" >8.49</td>\n",
              "      <td id=\"T_f5242_row4_col5\" class=\"data row4 col5\" >11.01</td>\n",
              "      <td id=\"T_f5242_row4_col6\" class=\"data row4 col6\" >13.11</td>\n",
              "      <td id=\"T_f5242_row4_col7\" class=\"data row4 col7\" >23.22</td>\n",
              "    </tr>\n",
              "    <tr>\n",
              "      <th id=\"T_f5242_level0_row5\" class=\"row_heading level0 row5\" >emprestimo_inadimplente</th>\n",
              "      <td id=\"T_f5242_row5_col0\" class=\"data row5 col0\" >32316.00</td>\n",
              "      <td id=\"T_f5242_row5_col1\" class=\"data row5 col1\" >0.22</td>\n",
              "      <td id=\"T_f5242_row5_col2\" class=\"data row5 col2\" >0.42</td>\n",
              "      <td id=\"T_f5242_row5_col3\" class=\"data row5 col3\" >0.00</td>\n",
              "      <td id=\"T_f5242_row5_col4\" class=\"data row5 col4\" >0.00</td>\n",
              "      <td id=\"T_f5242_row5_col5\" class=\"data row5 col5\" >0.00</td>\n",
              "      <td id=\"T_f5242_row5_col6\" class=\"data row5 col6\" >0.00</td>\n",
              "      <td id=\"T_f5242_row5_col7\" class=\"data row5 col7\" >1.00</td>\n",
              "    </tr>\n",
              "    <tr>\n",
              "      <th id=\"T_f5242_level0_row6\" class=\"row_heading level0 row6\" >emprestimo_renda_percentual</th>\n",
              "      <td id=\"T_f5242_row6_col0\" class=\"data row6 col0\" >32316.00</td>\n",
              "      <td id=\"T_f5242_row6_col1\" class=\"data row6 col1\" >0.17</td>\n",
              "      <td id=\"T_f5242_row6_col2\" class=\"data row6 col2\" >0.11</td>\n",
              "      <td id=\"T_f5242_row6_col3\" class=\"data row6 col3\" >0.01</td>\n",
              "      <td id=\"T_f5242_row6_col4\" class=\"data row6 col4\" >0.09</td>\n",
              "      <td id=\"T_f5242_row6_col5\" class=\"data row6 col5\" >0.15</td>\n",
              "      <td id=\"T_f5242_row6_col6\" class=\"data row6 col6\" >0.23</td>\n",
              "      <td id=\"T_f5242_row6_col7\" class=\"data row6 col7\" >0.83</td>\n",
              "    </tr>\n",
              "    <tr>\n",
              "      <th id=\"T_f5242_level0_row7\" class=\"row_heading level0 row7\" >historico_tempo_credito</th>\n",
              "      <td id=\"T_f5242_row7_col0\" class=\"data row7 col0\" >32316.00</td>\n",
              "      <td id=\"T_f5242_row7_col1\" class=\"data row7 col1\" >5.73</td>\n",
              "      <td id=\"T_f5242_row7_col2\" class=\"data row7 col2\" >4.02</td>\n",
              "      <td id=\"T_f5242_row7_col3\" class=\"data row7 col3\" >2.00</td>\n",
              "      <td id=\"T_f5242_row7_col4\" class=\"data row7 col4\" >3.00</td>\n",
              "      <td id=\"T_f5242_row7_col5\" class=\"data row7 col5\" >4.00</td>\n",
              "      <td id=\"T_f5242_row7_col6\" class=\"data row7 col6\" >8.00</td>\n",
              "      <td id=\"T_f5242_row7_col7\" class=\"data row7 col7\" >30.00</td>\n",
              "    </tr>\n",
              "  </tbody>\n",
              "</table>\n"
            ],
            "text/plain": [
              "<pandas.io.formats.style.Styler at 0x2a3b91bff10>"
            ]
          },
          "execution_count": 22,
          "metadata": {},
          "output_type": "execute_result"
        }
      ],
      "source": [
        "variavel = dados.pessoa_salario_anual.name\n",
        "dados = remove_outlier(dados, variavel, variavel)\n",
        "descricao = dados.describe().T\n",
        "descricao.style.background_gradient(cmap = 'crest').format(precision = 2)"
      ]
    },
    {
      "cell_type": "markdown",
      "metadata": {},
      "source": [
        "Gráficos de Boxplot depois da remoção dos outliers."
      ]
    },
    {
      "cell_type": "code",
      "execution_count": 23,
      "metadata": {},
      "outputs": [
        {
          "data": {
            "image/png": "[encoded data removed]",
            "text/plain": [
              "<Figure size 1440x1080 with 9 Axes>"
            ]
          },
          "metadata": {},
          "output_type": "display_data"
        }
      ],
      "source": [
        "outliers = ['pessoa_idade', 'pessoa_salario_anual', 'pessoa_tempo_trabalho', 'emprestimo_valor_total',\n",
        "            'emprestimo_taxa_juros', 'emprestimo_renda_percentual', 'historico_tempo_credito']\n",
        "ncols = len(outliers)\n",
        "fig, axes = plt.subplots(3, 3, figsize = (20, 15))\n",
        "custom_params = {\"axes.spines.right\": False,\"axes.spines.left\": False, \"axes.spines.top\": False}\n",
        "sns.set_theme(context=\"notebook\", style=\"white\", rc=custom_params)\n",
        "\n",
        "for outlier, ax in zip(outliers, axes.flatten()):  \n",
        "    sns.boxplot(data = dados, x = outlier, ax = ax)\n",
        "    \n",
        "plt.tight_layout()"
      ]
    },
    {
      "cell_type": "markdown",
      "metadata": {},
      "source": [
        "Exportar os dados limpos para um novo arquivo csv, onde podermos analisar mais sobre o conjunto de dados."
      ]
    },
    {
      "cell_type": "code",
      "execution_count": 26,
      "metadata": {},
      "outputs": [],
      "source": [
        "# Exportando os Dados para um arquivo .csv\n",
        "\n",
        "dir = '../data/processed/alura_cash_tratado.csv'\n",
        "dados.to_csv(path_or_buf = dir, index = False)"
      ]
    }
  ],
  "metadata": {
    "colab": {
      "include_colab_link": true,
      "provenance": []
    },
    "kernelspec": {
      "display_name": "Python 3.9.12 ('base')",
      "language": "python",
      "name": "python3"
    },
    "language_info": {
      "codemirror_mode": {
        "name": "ipython",
        "version": 3
      },
      "file_extension": ".py",
      "mimetype": "text/x-python",
      "name": "python",
      "nbconvert_exporter": "python",
      "pygments_lexer": "ipython3",
      "version": "3.9.12"
    },
    "orig_nbformat": 4,
    "vscode": {
      "interpreter": {
        "hash": "2d7e2abc49ad32e327445113e9255002ce2bfc2b3818d1bb0173a7df173d287f"
      }
    }
  },
  "nbformat": 4,
  "nbformat_minor": 0
}
